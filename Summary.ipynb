{
  "nbformat": 4,
  "nbformat_minor": 0,
  "metadata": {
    "colab": {
      "name": "Summary.ipynb",
      "provenance": [],
      "collapsed_sections": [],
      "mount_file_id": "13lBbDxt-Bzd3zNYlVsx-1W8-r0K-vtUQ",
      "authorship_tag": "ABX9TyOTDvmFssp7z5l9MpBkM8GK",
      "include_colab_link": true
    },
    "kernelspec": {
      "name": "python3",
      "display_name": "Python 3"
    },
    "language_info": {
      "name": "python"
    }
  },
  "cells": [
    {
      "cell_type": "markdown",
      "metadata": {
        "id": "view-in-github",
        "colab_type": "text"
      },
      "source": [
        "<a href=\"https://colab.research.google.com/github/Zaenur736/SoftEng/blob/main/Summary.ipynb\" target=\"_parent\"><img src=\"https://colab.research.google.com/assets/colab-badge.svg\" alt=\"Open In Colab\"/></a>"
      ]
    },
    {
      "cell_type": "code",
      "metadata": {
        "id": "GeAfe7vBbT8F"
      },
      "source": [
        "# Contoh penggunaan Variabel\n",
        "\n",
        "a = 10 # Integer\n",
        "b = 3.14 # Float\n",
        "c = \"Z\" # String\n",
        "d = 'Zaenur ' # String\n",
        "e = \"Ismail\" #Character\n",
        "f = \"IT Student\" # String\n",
        "g = True # Boolean\n",
        "h = False # Boolean\n",
        "i = [] # Initialize List\n",
        "j = [1,2,3] # List with value \n",
        "k = {} # Dictionary \n",
        "l = () # Tuple\n",
        "\n",
        "# Integer, Float, String, Boolean, List, Dictionary, Tuple\n"
      ],
      "execution_count": null,
      "outputs": []
    },
    {
      "cell_type": "code",
      "metadata": {
        "colab": {
          "base_uri": "https://localhost:8080/"
        },
        "id": "huHqsLBKxJnX",
        "outputId": "01ee3653-f30b-4b40-b6cc-41eb655447fd"
      },
      "source": [
        "# Print for debugging\n",
        "print (a)\n",
        "print (c + e)\n",
        "print(j)"
      ],
      "execution_count": null,
      "outputs": [
        {
          "output_type": "stream",
          "name": "stdout",
          "text": [
            "10\n",
            "ZIsmail\n",
            "[1, 2, 3]\n"
          ]
        }
      ]
    },
    {
      "cell_type": "code",
      "metadata": {
        "colab": {
          "base_uri": "https://localhost:8080/"
        },
        "id": "rSdiPAMKxbq7",
        "outputId": "57638e51-f563-49d3-8393-c39a13ece09e"
      },
      "source": [
        "# Concatination\n",
        "nama = \"Zaenur\"\n",
        "umur = 19\n",
        "Alamat = \"Jambi\"\n",
        "\n",
        "print(\"Hello namaku \" + nama)\n",
        "print(\"Sekarang aku berumur : {}\".format(umur))\n",
        "print(\"Hai namaku {}, sekarang diriku berumur {}, dan aku tinggal di {} \".format(nama, umur, Alamat))"
      ],
      "execution_count": null,
      "outputs": [
        {
          "output_type": "stream",
          "name": "stdout",
          "text": [
            "Hello namaku Zaenur\n",
            "Sekarang aku berumur : 19\n",
            "Hai namaku Zaenur, sekarang diriku berumur 19, dan aku tinggal di Jambi \n"
          ]
        }
      ]
    },
    {
      "cell_type": "code",
      "metadata": {
        "colab": {
          "base_uri": "https://localhost:8080/"
        },
        "id": "YpUU515yxqSO",
        "outputId": "72932c71-ac50-4e61-a16d-a743b7e8df88"
      },
      "source": [
        "#User Input\n",
        "nama = input()"
      ],
      "execution_count": null,
      "outputs": [
        {
          "name": "stdout",
          "output_type": "stream",
          "text": [
            "Zaenur\n"
          ]
        }
      ]
    },
    {
      "cell_type": "code",
      "metadata": {
        "colab": {
          "base_uri": "https://localhost:8080/"
        },
        "id": "OVBjI3EBx1Kq",
        "outputId": "eb26855f-9111-4569-8c8b-4345abac1c9b"
      },
      "source": [
        "#Operator\n",
        "import math\n",
        "a + b\n",
        "a - b\n",
        "a * b         #Multiplication\n",
        "a / b         #Float Division\n",
        "a // b        #Int Division\n",
        "a ** b        #Power of\n",
        "a % b         #Modulus\n",
        "a ** (1/2)    #Square root\n",
        "math.sqrt(a)  #Square root with math Library Function\n",
        "math.sin(a)\n",
        "math.cos(a)\n",
        "math.tan(a)\n",
        "math.log(a)"
      ],
      "execution_count": null,
      "outputs": [
        {
          "output_type": "execute_result",
          "data": {
            "text/plain": [
              "2.302585092994046"
            ]
          },
          "metadata": {},
          "execution_count": 13
        }
      ]
    },
    {
      "cell_type": "code",
      "metadata": {
        "colab": {
          "base_uri": "https://localhost:8080/"
        },
        "id": "FSmbkOJkyBJf",
        "outputId": "1b7c22da-d510-4ce0-c20c-3c54fb56af87"
      },
      "source": [
        "#If else\n",
        "a = int(input(\"Please Input your Grade :) = \"))\n",
        "\n",
        "if a < 20 and a > 0:\n",
        "  print(\"Your Grade is E\")\n",
        "elif a < 40 and a > 20:\n",
        "  print(\"Your Grade is D\")\n",
        "elif a < 60 and a > 40:\n",
        "  print(\"Your Grade is C\")\n",
        "elif a < 80 and a > 60:\n",
        "  print(\"Your Grade is B\")\n",
        "else:\n",
        "  print(\"Your Grade is A\")"
      ],
      "execution_count": null,
      "outputs": [
        {
          "output_type": "stream",
          "name": "stdout",
          "text": [
            "Please Input your Grade :) = 90\n",
            "Your Grade is A\n"
          ]
        }
      ]
    },
    {
      "cell_type": "markdown",
      "metadata": {
        "id": "-Wypn_r4xH_c"
      },
      "source": [
        ""
      ]
    }
  ]
}