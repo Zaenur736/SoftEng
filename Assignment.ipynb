{
  "nbformat": 4,
  "nbformat_minor": 0,
  "metadata": {
    "colab": {
      "name": "Assignment.ipynb",
      "provenance": [],
      "collapsed_sections": [],
      "toc_visible": true,
      "authorship_tag": "ABX9TyOKk25Eoxzw7zYcF38miCEk",
      "include_colab_link": true
    },
    "kernelspec": {
      "name": "python3",
      "display_name": "Python 3"
    },
    "language_info": {
      "name": "python"
    }
  },
  "cells": [
    {
      "cell_type": "markdown",
      "metadata": {
        "id": "view-in-github",
        "colab_type": "text"
      },
      "source": [
        "<a href=\"https://colab.research.google.com/github/Zaenur736/SoftEng/blob/main/Assignment.ipynb\" target=\"_parent\"><img src=\"https://colab.research.google.com/assets/colab-badge.svg\" alt=\"Open In Colab\"/></a>"
      ]
    },
    {
      "cell_type": "code",
      "metadata": {
        "colab": {
          "base_uri": "https://localhost:8080/"
        },
        "id": "qal67baN5fTn",
        "outputId": "2011688f-8dc8-45ec-8e50-2eb12470924d"
      },
      "source": [
        "#Import math to add some library math \n",
        "import math\n",
        "\n",
        "#So to declare a degre only with math.PI as 180 Degree\n",
        "print(math.degrees((math.pi)))\n",
        "print(math.degrees((math.pi/2)))\n",
        "print(math.degrees((math.pi/4.5)))\n",
        "\n",
        "#And if you want add some sin cos tan \n",
        "#This is recommended because if we want clear some Degree we convert first The Degree to Radian\n",
        "print(math.sin(math.pi/6))\n",
        "print(math.cos(math.pi/3))\n",
        "print(math.tan(math.pi/4))\n",
        "\n",
        "#also can put like this\n",
        "print (\"cos(0) : \", math.cos(0))\n",
        "print (\"sin(45) : \", math.cos(45))"
      ],
      "execution_count": 28,
      "outputs": [
        {
          "output_type": "stream",
          "name": "stdout",
          "text": [
            "180.0\n",
            "90.0\n",
            "40.0\n",
            "0.49999999999999994\n",
            "0.5000000000000001\n",
            "0.9999999999999999\n",
            "cos(0) :  1.0\n",
            "sin(45) :  0.5253219888177297\n"
          ]
        }
      ]
    }
  ]
}