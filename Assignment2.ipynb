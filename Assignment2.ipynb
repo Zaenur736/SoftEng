{
  "nbformat": 4,
  "nbformat_minor": 0,
  "metadata": {
    "colab": {
      "name": "Assignment2.ipynb",
      "provenance": [],
      "collapsed_sections": [],
      "authorship_tag": "ABX9TyO1Bc84sjCM+XUhmIhHoFwl",
      "include_colab_link": true
    },
    "kernelspec": {
      "name": "python3",
      "display_name": "Python 3"
    },
    "language_info": {
      "name": "python"
    }
  },
  "cells": [
    {
      "cell_type": "markdown",
      "metadata": {
        "id": "view-in-github",
        "colab_type": "text"
      },
      "source": [
        "<a href=\"https://colab.research.google.com/github/Zaenur736/SoftEng/blob/main/Assignment2.ipynb\" target=\"_parent\"><img src=\"https://colab.research.google.com/assets/colab-badge.svg\" alt=\"Open In Colab\"/></a>"
      ]
    },
    {
      "cell_type": "code",
      "metadata": {
        "colab": {
          "base_uri": "https://localhost:8080/"
        },
        "id": "9PQhD5ICB7zo",
        "outputId": "047d02f2-d6fe-40f3-f7ac-b58fdb524a4a"
      },
      "source": [
        "while True:\n",
        "  x = int(input(\"x:\"))\n",
        "  y = int(input(\"y:\"))\n",
        "  \n",
        "  if x==0 or y==0:\n",
        "    print(\"Error\")\n",
        "  elif x>0 and y>0:\n",
        "        print(\"Kuadran I\")\n",
        "  elif x<0 and y<0:\n",
        "        print(\"Kuadran III\")\n",
        "  elif x<0 and y>0:\n",
        "        print(\"Kuadran II\")\n",
        "  else:\n",
        "        print(\"Kuadran IV\")\n",
        "  \n",
        "   \n",
        "\n",
        "\n",
        "\n",
        "  "
      ],
      "execution_count": null,
      "outputs": [
        {
          "output_type": "stream",
          "name": "stdout",
          "text": [
            "x:1\n",
            "y:2\n",
            "Kuadran I\n"
          ]
        }
      ]
    }
  ]
}